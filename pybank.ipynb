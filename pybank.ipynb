{
 "cells": [
  {
   "cell_type": "code",
   "execution_count": 4,
   "id": "d9c9d1d6-9c10-42a5-9897-c940e7b46bfd",
   "metadata": {
    "tags": []
   },
   "outputs": [],
   "source": [
    "from pathlib import Path\n",
    "import csv"
   ]
  },
  {
   "cell_type": "code",
   "execution_count": 5,
   "id": "592f0ae1-0a1b-4c48-990c-ec3f1d62efdb",
   "metadata": {
    "tags": []
   },
   "outputs": [],
   "source": [
    "csvpath = Path(\"budget_data.csv\")"
   ]
  },
  {
   "cell_type": "code",
   "execution_count": 6,
   "id": "a1c41bef-4d5b-4668-8e88-3a9cf5b9fff5",
   "metadata": {
    "tags": []
   },
   "outputs": [
    {
     "name": "stdout",
     "output_type": "stream",
     "text": [
      "38382578\n",
      "86\n"
     ]
    }
   ],
   "source": [
    "with open(csvpath, 'r') as csvfile:\n",
    "    csvreader = csv.reader(csvfile, delimiter=',')\n",
    "\n",
    "    header = next(csvreader)\n",
    "    first_row = next(csvreader)\n",
    "\n",
    "    dates = []\n",
    "    pnls = []\n",
    "    \n",
    "    for row in csvreader:\n",
    "        pnl = int(row [1])\n",
    "        date = row[0]\n",
    "        dates.append(date)\n",
    "        pnls.append(pnl)\n",
    "        \n",
    "    total_net_pnl = 0\n",
    "    total_pnl_no_first_row = 0\n",
    "    for pnl in pnls:\n",
    "        total_pnl_no_first_row += pnl\n",
    "        total_net_pnl = int(first_row[1]) + int(total_pnl_no_first_row)\n",
    "    total_month_count = len(dates) + 1\n",
    "    print(total_net_pnl)\n",
    "    print(total_month_count)"
   ]
  },
  {
   "cell_type": "code",
   "execution_count": 7,
   "id": "fe236cd8-3618-48ae-b353-dec7437c0994",
   "metadata": {},
   "outputs": [],
   "source": [
    "month_chng =[]\n",
    "net_chng_lst =[]\n",
    "greatest_profit_increase = [\"\", 0]\n",
    "greatest_profit_decrease = [\"\", 9999999999]\n",
    "\n",
    "with open(csvpath, 'r') as csvfile:\n",
    "    csvreader = csv.reader(csvfile, delimiter=',')\n",
    "    \n",
    "    header = next(csvreader)\n",
    "\n",
    "    first_row = next(csvreader)\n",
    "\n",
    "    previous = int(first_row[1])\n",
    "\n",
    "\n",
    "    for row in csvreader:\n",
    "        net_chng = int(row[1]) - previous\n",
    "        previous = int(row[1])\n",
    "        net_chng_lst = net_chng_lst + [net_chng]\n",
    "        month_chng = month_chng + [row[0]]\n",
    "    \n",
    "        if net_chng > greatest_profit_increase[1]:\n",
    "            greatest_profit_increase[0] = row[0]\n",
    "            greatest_profit_increase[1] = net_chng\n",
    "    \n",
    "        if net_chng < greatest_profit_decrease[1]:\n",
    "            greatest_profit_decrease[0] = row[0]\n",
    "            greatest_profit_decrease[1] = net_chng"
   ]
  },
  {
   "cell_type": "code",
   "execution_count": 8,
   "id": "795fff77-3b1c-4b32-9c88-5a7579c41c12",
   "metadata": {
    "tags": []
   },
   "outputs": [
    {
     "name": "stdout",
     "output_type": "stream",
     "text": [
      "-2315.12\n"
     ]
    }
   ],
   "source": [
    "monthly_average = round (sum(net_chng_lst) / len(net_chng_lst), 2)\n",
    "print(monthly_average)"
   ]
  },
  {
   "cell_type": "code",
   "execution_count": 12,
   "id": "a9a4efcd-2c71-4dbf-ba96-ec7ba5dd7aca",
   "metadata": {},
   "outputs": [
    {
     "name": "stdout",
     "output_type": "stream",
     "text": [
      "Financial Analysis\n",
      "-----------------\n",
      "\n",
      "Total Months: 86\n",
      "\n",
      "Total Net Profit and Loss: $38382578\n",
      "\n",
      "Average Change: $-2315.12\n",
      "\n",
      "Greatest Increase In Profits: Feb-2012: $1926159\n",
      "\n",
      "Greatest Decrease In Profits: Sep-2013: $-2196167\n"
     ]
    }
   ],
   "source": [
    "print(f\"Financial Analysis\")\n",
    "print(f\"-----------------\")\n",
    "print()\n",
    "print(f\"Total Months: {total_month_count}\")\n",
    "print()\n",
    "print(f\"Total Net Profit and Loss: ${total_net_pnl}\")\n",
    "print()\n",
    "print(f\"Average Change: ${monthly_average}\")\n",
    "print()\n",
    "print(f\"Greatest Increase In Profits: {greatest_profit_increase[0]}: ${greatest_profit_increase[1]}\")\n",
    "print()\n",
    "print(f\"Greatest Decrease In Profits: {greatest_profit_decrease[0]}: ${greatest_profit_decrease[1]}\")"
   ]
  },
  {
   "cell_type": "code",
   "execution_count": null,
   "id": "267dbf96-bb7d-4a71-84ba-24147715fb17",
   "metadata": {},
   "outputs": [],
   "source": []
  }
 ],
 "metadata": {
  "kernelspec": {
   "display_name": "Python 3 (ipykernel)",
   "language": "python",
   "name": "python3"
  },
  "language_info": {
   "codemirror_mode": {
    "name": "ipython",
    "version": 3
   },
   "file_extension": ".py",
   "mimetype": "text/x-python",
   "name": "python",
   "nbconvert_exporter": "python",
   "pygments_lexer": "ipython3",
   "version": "3.11.5"
  }
 },
 "nbformat": 4,
 "nbformat_minor": 5
}
